{
 "cells": [
  {
   "cell_type": "code",
   "execution_count": 3,
   "id": "618f5616",
   "metadata": {},
   "outputs": [],
   "source": [
    "hairstyles = [\"bouffant\", \"pixie\", \"dreadlocks\", \"crew\", \"bowl\", \"bob\", \"mohawk\", \"flattop\"]\n",
    "\n",
    "prices = [30, 25, 40, 20, 20, 35, 50, 35]\n",
    "\n",
    "last_week = [2, 3, 5, 8, 4, 4, 6, 2]"
   ]
  },
  {
   "cell_type": "markdown",
   "id": "d8b8401a",
   "metadata": {},
   "source": [
    "1"
   ]
  },
  {
   "cell_type": "code",
   "execution_count": 1,
   "id": "bb053271",
   "metadata": {},
   "outputs": [],
   "source": [
    "total_price = 0"
   ]
  },
  {
   "cell_type": "markdown",
   "id": "9cd70b4a",
   "metadata": {},
   "source": [
    "2"
   ]
  },
  {
   "cell_type": "code",
   "execution_count": 4,
   "id": "8a5d91fb",
   "metadata": {},
   "outputs": [],
   "source": [
    "for price in prices:\n",
    "    total_price += price"
   ]
  },
  {
   "cell_type": "markdown",
   "id": "a486edf1",
   "metadata": {},
   "source": [
    "3"
   ]
  },
  {
   "cell_type": "code",
   "execution_count": 6,
   "id": "ff981f17",
   "metadata": {},
   "outputs": [],
   "source": [
    "average_price = total_price / len(prices)"
   ]
  },
  {
   "cell_type": "markdown",
   "id": "560c99c8",
   "metadata": {},
   "source": [
    "4"
   ]
  },
  {
   "cell_type": "code",
   "execution_count": 7,
   "id": "851b48c2",
   "metadata": {},
   "outputs": [
    {
     "data": {
      "text/plain": [
       "31.875"
      ]
     },
     "execution_count": 7,
     "metadata": {},
     "output_type": "execute_result"
    }
   ],
   "source": [
    "average_price"
   ]
  },
  {
   "cell_type": "markdown",
   "id": "03660093",
   "metadata": {},
   "source": [
    "5"
   ]
  },
  {
   "cell_type": "code",
   "execution_count": 10,
   "id": "29b64039",
   "metadata": {},
   "outputs": [],
   "source": [
    "new_prices = [price - 5 for price in prices]"
   ]
  },
  {
   "cell_type": "markdown",
   "id": "300ca7f9",
   "metadata": {},
   "source": [
    "6"
   ]
  },
  {
   "cell_type": "code",
   "execution_count": 11,
   "id": "d7f93ed1",
   "metadata": {},
   "outputs": [
    {
     "data": {
      "text/plain": [
       "[25, 20, 35, 15, 15, 30, 45, 30]"
      ]
     },
     "execution_count": 11,
     "metadata": {},
     "output_type": "execute_result"
    }
   ],
   "source": [
    "new_prices"
   ]
  },
  {
   "cell_type": "markdown",
   "id": "1f396f4f",
   "metadata": {},
   "source": [
    "7"
   ]
  },
  {
   "cell_type": "code",
   "execution_count": 22,
   "id": "9d3f43aa",
   "metadata": {},
   "outputs": [],
   "source": [
    "total_revenue = 0"
   ]
  },
  {
   "cell_type": "markdown",
   "id": "c6e9747f",
   "metadata": {},
   "source": [
    "8"
   ]
  },
  {
   "cell_type": "code",
   "execution_count": null,
   "id": "87756fca",
   "metadata": {},
   "outputs": [],
   "source": []
  },
  {
   "cell_type": "markdown",
   "id": "248c642e",
   "metadata": {},
   "source": [
    "9"
   ]
  },
  {
   "cell_type": "code",
   "execution_count": 23,
   "id": "0678ab71",
   "metadata": {},
   "outputs": [],
   "source": [
    "for i in range(len(hairstyles)):\n",
    "    total_revenue += prices[i] * last_week[i]"
   ]
  },
  {
   "cell_type": "markdown",
   "id": "53a82eba",
   "metadata": {},
   "source": [
    "10"
   ]
  },
  {
   "cell_type": "code",
   "execution_count": 24,
   "id": "9cb1402e",
   "metadata": {},
   "outputs": [
    {
     "data": {
      "text/plain": [
       "1085"
      ]
     },
     "execution_count": 24,
     "metadata": {},
     "output_type": "execute_result"
    }
   ],
   "source": [
    "total_revenue"
   ]
  },
  {
   "cell_type": "markdown",
   "id": "247cfaa8",
   "metadata": {},
   "source": [
    "11"
   ]
  },
  {
   "cell_type": "code",
   "execution_count": null,
   "id": "6899fbc2",
   "metadata": {},
   "outputs": [
    {
     "name": "stdout",
     "output_type": "stream",
     "text": [
      "Average daily revenue is  155.0\n"
     ]
    }
   ],
   "source": [
    "average_daily_revenue = total_revenue / 7\n",
    "\n",
    "print(\"Average daily revenue is \", average_daily_revenue)"
   ]
  },
  {
   "cell_type": "markdown",
   "id": "1eb06867",
   "metadata": {},
   "source": [
    "12"
   ]
  },
  {
   "cell_type": "code",
   "execution_count": 26,
   "id": "71252fc7",
   "metadata": {},
   "outputs": [],
   "source": [
    "cuts_under_30 = [hairstyles[i] for i in range(len(new_prices)) if new_prices[i] < 30]\n"
   ]
  },
  {
   "cell_type": "markdown",
   "id": "7d49fd35",
   "metadata": {},
   "source": [
    "13"
   ]
  },
  {
   "cell_type": "code",
   "execution_count": 27,
   "id": "dc40d01a",
   "metadata": {},
   "outputs": [
    {
     "data": {
      "text/plain": [
       "['bouffant', 'pixie', 'crew', 'bowl']"
      ]
     },
     "execution_count": 27,
     "metadata": {},
     "output_type": "execute_result"
    }
   ],
   "source": [
    "cuts_under_30"
   ]
  }
 ],
 "metadata": {
  "kernelspec": {
   "display_name": "base",
   "language": "python",
   "name": "python3"
  },
  "language_info": {
   "codemirror_mode": {
    "name": "ipython",
    "version": 3
   },
   "file_extension": ".py",
   "mimetype": "text/x-python",
   "name": "python",
   "nbconvert_exporter": "python",
   "pygments_lexer": "ipython3",
   "version": "3.12.7"
  }
 },
 "nbformat": 4,
 "nbformat_minor": 5
}
