{
 "cells": [
  {
   "cell_type": "markdown",
   "id": "d8b8401a",
   "metadata": {},
   "source": [
    "1"
   ]
  },
  {
   "cell_type": "code",
   "execution_count": 1,
   "id": "bb053271",
   "metadata": {},
   "outputs": [],
   "source": [
    "month_list = ['쌍', '쇠', '복', '돌', '팽', '육', '쌍', '개', '칠', '갑', '삼', '방']\n"
   ]
  },
  {
   "cell_type": "markdown",
   "id": "9cd70b4a",
   "metadata": {},
   "source": [
    "2"
   ]
  },
  {
   "cell_type": "code",
   "execution_count": 2,
   "id": "8a5d91fb",
   "metadata": {},
   "outputs": [],
   "source": [
    "day_list = ['봉', '구', '욕', '포', '똥', '삼', '식', '석', '놈', '님', '년', '돌', '단', '득', '방', '질', '장', '걸', '래', '룡', '동', '순', '자', '박', '창', '언', '것', '포', '만', '단', '국']\n"
   ]
  },
  {
   "cell_type": "markdown",
   "id": "a486edf1",
   "metadata": {},
   "source": [
    "3"
   ]
  },
  {
   "cell_type": "code",
   "execution_count": 3,
   "id": "ff981f17",
   "metadata": {},
   "outputs": [],
   "source": [
    "def get_my_chosun_name(family_name, month, day):\n",
    "    name = family_name + month_list[month - 1] + day_list[day - 1]\n",
    "    print(\"당신의 이름은 \", name ,\" 입니다.\")\n"
   ]
  },
  {
   "cell_type": "markdown",
   "id": "560c99c8",
   "metadata": {},
   "source": [
    "4"
   ]
  },
  {
   "cell_type": "code",
   "execution_count": 4,
   "id": "851b48c2",
   "metadata": {},
   "outputs": [
    {
     "name": "stdout",
     "output_type": "stream",
     "text": [
      "당신의 이름은  오쌍박  입니다.\n"
     ]
    }
   ],
   "source": [
    "get_my_chosun_name('오', 1, 24)"
   ]
  }
 ],
 "metadata": {
  "kernelspec": {
   "display_name": "base",
   "language": "python",
   "name": "python3"
  },
  "language_info": {
   "codemirror_mode": {
    "name": "ipython",
    "version": 3
   },
   "file_extension": ".py",
   "mimetype": "text/x-python",
   "name": "python",
   "nbconvert_exporter": "python",
   "pygments_lexer": "ipython3",
   "version": "3.12.7"
  }
 },
 "nbformat": 4,
 "nbformat_minor": 5
}
